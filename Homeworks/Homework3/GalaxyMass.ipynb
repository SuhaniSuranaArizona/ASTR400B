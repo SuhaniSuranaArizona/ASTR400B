{
 "cells": [
  {
   "cell_type": "code",
   "execution_count": 56,
   "id": "1c65fa28-10ff-417f-8840-a2fddbf972a0",
   "metadata": {},
   "outputs": [],
   "source": [
    "import astropy.units as u\n",
    "from ReadFile import Read\n",
    "import numpy as np"
   ]
  },
  {
   "cell_type": "code",
   "execution_count": 88,
   "id": "224ad3a6-4cc9-4d54-8303-3b2508950f93",
   "metadata": {},
   "outputs": [],
   "source": [
    "def ComponentMass(filename, particle_type):\n",
    "    \"\"\"\n",
    "    This function returns the total mass of any galaxy component.\n",
    "\n",
    "    Inputs: filename (string) Name of the file in which the data is stored in the correct format.\n",
    "            particle_type (integer) is the type of the particle, mapped to a number as follows, Type 1 = Dark Matter, \n",
    "            Type 2 = Disk Stars, Type 3 = Bulge Stars\n",
    "\n",
    "     Output : m (astropy units M_sun) Mass in 10^12 solar mass\n",
    "             \n",
    "    \"\"\"\n",
    "    \n",
    "    time, total_particles, data = Read(filename) # Get the array representation of the data file\n",
    "    \n",
    "    index = np.where(data['type'] == particle_type) # Get the index and Filter out all the values matching that particle type\n",
    "\n",
    "    data1 = data[index]\n",
    "    \n",
    "\n",
    "    m = np.sum(data1['m']) * 10**10* u.M_sun # Retriving all the mass values and summing them together for a particular \n",
    "    \n",
    "    return (np.round(m, 3)) # Returning the mass \n",
    "    \n",
    "\n",
    "    "
   ]
  },
  {
   "cell_type": "markdown",
   "id": "75d42416-2fae-4081-b761-a871c2988149",
   "metadata": {},
   "source": [
    "### Returning the total mass of MW according to this format, Type 1 = Dark Matter, Type 2 = Disk Stars, Type 3 = Bulge Stars"
   ]
  },
  {
   "cell_type": "code",
   "execution_count": 94,
   "id": "f65807bf-b6e1-40b1-88e9-ac167e76f2eb",
   "metadata": {},
   "outputs": [
    {
     "name": "stdout",
     "output_type": "stream",
     "text": [
      "1974925000000.0 solMass 75000000000.0 solMass 10005000000.0 solMass\n"
     ]
    }
   ],
   "source": [
    "m3 = ComponentMass(\"MW_000.txt\", 3)\n",
    "m3\n",
    "m2 = ComponentMass(\"MW_000.txt\", 2)\n",
    "m2\n",
    "m1 = ComponentMass(\"MW_000.txt\", 1)\n",
    "print(m1, m2, m3)"
   ]
  },
  {
   "cell_type": "markdown",
   "id": "d516d410-e5ae-4a82-8ac2-0cf6aa930e5d",
   "metadata": {},
   "source": [
    "### Returning the total mass of M33 according to this format, Type 1 = Dark Matter, Type 2 = Disk Stars, Type 3 = Bulge Stars"
   ]
  },
  {
   "cell_type": "code",
   "execution_count": 86,
   "id": "4d686ef7-88c5-4aab-91b1-e7300835d684",
   "metadata": {},
   "outputs": [
    {
     "data": {
      "text/latex": [
       "$0 \\; \\mathrm{M_{\\odot}}$"
      ],
      "text/plain": [
       "<Quantity 0. solMass>"
      ]
     },
     "execution_count": 86,
     "metadata": {},
     "output_type": "execute_result"
    }
   ],
   "source": [
    "m = ComponentMass(\"M33_000.txt\", 3)\n",
    "m"
   ]
  },
  {
   "cell_type": "code",
   "execution_count": 96,
   "id": "db81ec47-0213-4d91-bcf3-bb36353910e3",
   "metadata": {},
   "outputs": [
    {
     "data": {
      "text/latex": [
       "$9.3 \\times 10^{9} \\; \\mathrm{M_{\\odot}}$"
      ],
      "text/plain": [
       "<Quantity 9.3e+09 solMass>"
      ]
     },
     "execution_count": 96,
     "metadata": {},
     "output_type": "execute_result"
    }
   ],
   "source": [
    "m = ComponentMass(\"M33_000.txt\", 2)\n",
    "m"
   ]
  },
  {
   "cell_type": "code",
   "execution_count": 98,
   "id": "d837b3d1-b222-430d-a38c-26a23a3b6bb7",
   "metadata": {},
   "outputs": [
    {
     "data": {
      "text/latex": [
       "$1.86613 \\times 10^{11} \\; \\mathrm{M_{\\odot}}$"
      ],
      "text/plain": [
       "<Quantity 1.86613e+11 solMass>"
      ]
     },
     "execution_count": 98,
     "metadata": {},
     "output_type": "execute_result"
    }
   ],
   "source": [
    "m = ComponentMass(\"M33_000.txt\", 1)\n",
    "m"
   ]
  },
  {
   "cell_type": "markdown",
   "id": "754da94a-9f51-413c-b877-2090d6a1aea9",
   "metadata": {},
   "source": [
    "### Returning the total mass of M31 according to this format, Type 1 = Dark Matter, Type 2 = Disk Stars, Type 3 = Bulge Stars"
   ]
  },
  {
   "cell_type": "code",
   "execution_count": 100,
   "id": "4256db83-b253-4348-a6ea-41a1abd9c6ad",
   "metadata": {},
   "outputs": [
    {
     "data": {
      "text/latex": [
       "$1.904997 \\times 10^{10} \\; \\mathrm{M_{\\odot}}$"
      ],
      "text/plain": [
       "<Quantity 1.904997e+10 solMass>"
      ]
     },
     "execution_count": 100,
     "metadata": {},
     "output_type": "execute_result"
    }
   ],
   "source": [
    "m = ComponentMass(\"M31_000.txt\", 3)\n",
    "m"
   ]
  },
  {
   "cell_type": "code",
   "execution_count": 101,
   "id": "a8cc9982-04ce-42cc-94c7-833ffe3523b4",
   "metadata": {},
   "outputs": [
    {
     "data": {
      "text/latex": [
       "$1.2 \\times 10^{11} \\; \\mathrm{M_{\\odot}}$"
      ],
      "text/plain": [
       "<Quantity 1.2e+11 solMass>"
      ]
     },
     "execution_count": 101,
     "metadata": {},
     "output_type": "execute_result"
    }
   ],
   "source": [
    "m = ComponentMass(\"M31_000.txt\", 2)\n",
    "m"
   ]
  },
  {
   "cell_type": "code",
   "execution_count": 106,
   "id": "28add9d7-2827-41b9-b63f-8ab4c30c3998",
   "metadata": {},
   "outputs": [
    {
     "data": {
      "text/latex": [
       "$1.92088 \\times 10^{12} \\; \\mathrm{M_{\\odot}}$"
      ],
      "text/plain": [
       "<Quantity 1.92088e+12 solMass>"
      ]
     },
     "execution_count": 106,
     "metadata": {},
     "output_type": "execute_result"
    }
   ],
   "source": [
    "m = ComponentMass(\"M31_000.txt\", 1)\n",
    "m"
   ]
  },
  {
   "cell_type": "code",
   "execution_count": null,
   "id": "29afdc5c-c907-47cd-913c-2c71e0798fe8",
   "metadata": {},
   "outputs": [],
   "source": []
  }
 ],
 "metadata": {
  "kernelspec": {
   "display_name": "Python 3 (ipykernel)",
   "language": "python",
   "name": "python3"
  },
  "language_info": {
   "codemirror_mode": {
    "name": "ipython",
    "version": 3
   },
   "file_extension": ".py",
   "mimetype": "text/x-python",
   "name": "python",
   "nbconvert_exporter": "python",
   "pygments_lexer": "ipython3",
   "version": "3.11.7"
  }
 },
 "nbformat": 4,
 "nbformat_minor": 5
}
