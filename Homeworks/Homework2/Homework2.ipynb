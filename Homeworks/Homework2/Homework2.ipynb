{
 "cells": [
  {
   "cell_type": "code",
   "execution_count": 83,
   "id": "c857d621-2530-4122-bda6-e2caa59866ed",
   "metadata": {},
   "outputs": [],
   "source": [
    "# importing necessary libraries\n",
    "import numpy as np\n",
    "import astropy.units as u"
   ]
  },
  {
   "cell_type": "code",
   "execution_count": 191,
   "id": "ec32c7b2-c5f6-42c4-ac42-5c2d3c5e768a",
   "metadata": {},
   "outputs": [],
   "source": [
    "def Read(filename):\n",
    "    \n",
    "    \"\"\"\n",
    "    This function will open and read any given data file according to this format,\n",
    "    \n",
    "        # Row 1: Time (Myr)  \n",
    "        # Row 2: Total number of particles  \n",
    "        # Row 3: Units for the following columns  \n",
    "        # Row 4: Column headers  \n",
    "        # Remaining rows contain particle data:  \n",
    "        #   Col 1: Type (1=DM, 2=Disk, 3=Bulge)  \n",
    "        #   Col 2: Mass (10^10 M⊙)  \n",
    "        #   Col 3-5: Position (x, y, z) in kpc (MW center)  \n",
    "        #   Col 6-8: Velocity (vx, vy, vz) in km/s (MW frame)  \n",
    "        # Columns are tab-delimited  \n",
    "\n",
    "    Inputs: filename (string) Name of the file in which the data is stored in the correct format.\n",
    "\n",
    "    Output : time is the time in Myr\n",
    "             total_particles is the total number of particles\n",
    "             data is the full data array\n",
    "    \"\"\"\n",
    "    file = open(filename, 'r')\n",
    "    line1 = file.readline()\n",
    "    label, value = line1.split()\n",
    "    time = float(value)*u.Myr\n",
    "\n",
    "    line2 = file.readline()\n",
    "    label, value = line2.split()\n",
    "    total_particles = float(value)\n",
    "    file.close()\n",
    "\n",
    "    # Skips the first three lines and starts storing from the 4th line\n",
    "    data = np.genfromtxt(filename,dtype=None,names=True,skip_header=3)\n",
    "    \n",
    "\n",
    "    return (time, total_particles, data)"
   ]
  },
  {
   "cell_type": "code",
   "execution_count": 193,
   "id": "772f76a0-684a-40c1-a273-ab3f57eddc11",
   "metadata": {},
   "outputs": [],
   "source": [
    "# Testing\n",
    "time, total_particles, data = Read(\"MW_000.txt\")"
   ]
  },
  {
   "cell_type": "code",
   "execution_count": 194,
   "id": "e63fe1f2-5d8d-4b1c-abba-afeadbaab7ee",
   "metadata": {},
   "outputs": [
    {
     "data": {
      "text/plain": [
       "11.3833"
      ]
     },
     "execution_count": 194,
     "metadata": {},
     "output_type": "execute_result"
    }
   ],
   "source": [
    "data['vx'][2] # This gives out the velocity in the x direction of the 2nd particle as a whole."
   ]
  },
  {
   "cell_type": "code",
   "execution_count": 197,
   "id": "df9baeee-d0a9-413b-b21d-6c8b25174c59",
   "metadata": {},
   "outputs": [
    {
     "data": {
      "text/latex": [
       "$0 \\; \\mathrm{Myr}$"
      ],
      "text/plain": [
       "<Quantity 0. Myr>"
      ]
     },
     "execution_count": 197,
     "metadata": {},
     "output_type": "execute_result"
    }
   ],
   "source": [
    "# units of Myr (equivalent to SnapNumber x 10/0.7)\n",
    "time # Should be 0"
   ]
  },
  {
   "cell_type": "code",
   "execution_count": 199,
   "id": "7b48574c-756c-4b22-843e-2d26899de80c",
   "metadata": {},
   "outputs": [
    {
     "data": {
      "text/plain": [
       "14.87"
      ]
     },
     "execution_count": 199,
     "metadata": {},
     "output_type": "execute_result"
    }
   ],
   "source": [
    "index = np.where(data['type'] == 2)    # This is a disk type particle\n",
    "x = data[index] # Gives an array whose particle type is a disk\n",
    "x[100]['x'] # 100th disk particles' x distance in kpc)"
   ]
  },
  {
   "cell_type": "code",
   "execution_count": 203,
   "id": "a4c4b581-563b-43e8-919a-e3d7051b4a2a",
   "metadata": {},
   "outputs": [
    {
     "data": {
      "text/plain": [
       "16.7124"
      ]
     },
     "execution_count": 203,
     "metadata": {},
     "output_type": "execute_result"
    }
   ],
   "source": [
    "data[-1]['vz'] #should be 16.7124"
   ]
  },
  {
   "cell_type": "code",
   "execution_count": 273,
   "id": "3eed4e03-86ed-4d1a-82da-e9c35d9e6e7a",
   "metadata": {},
   "outputs": [],
   "source": [
    "\n",
    "def ParticleInfo(filename, particle_type, particle_number):\n",
    "    \"\"\"\n",
    "    This function will compute the magnitude of the distance, magnitude of the velocity and mass of any given particle of \n",
    "    any given type (Disk, Halo, etc.)\n",
    "\n",
    "    Inputs: filename (string) Name of the file in which the data is stored in the correct format.\n",
    "            particle_type is the type of the particle, mapped to a number as follows, Type 1 = Dark Matter, \n",
    "            Type 2 = Disk Stars, Type 3 = Bulge Stars\n",
    "            particle_number is the number of the particle\n",
    "\n",
    "    Output : d (astropy units kpc)  Magnitude of the distance\n",
    "             v (astropy units km/s) Magnitude of the velocity\n",
    "             m (astropy units M_sun) Mass\n",
    "    \"\"\"\n",
    "    \n",
    "    time, total_particles, data = Read(filename)\n",
    "    \n",
    "    index = np.where(data['type'] == particle_type)\n",
    "    data1 = data[index]\n",
    "\n",
    "\n",
    "    # distance\n",
    "    x = float(data1[particle_number]['x']) * u.kpc\n",
    "    y = float(data1[particle_number]['y']) * u.kpc\n",
    "    z = float(data1[particle_number]['z']) * u.kpc\n",
    "\n",
    "    # velocity\n",
    "    vx = float(data1[particle_number]['vx']) * u.km/u.s\n",
    "    vy = float(data1[particle_number]['vy']) * u.km/u.s\n",
    "    vz = float(data1[particle_number]['vz']) * u.km/u.s\n",
    "\n",
    "    m = data['m'][index][particle_number] * 10**10* u.M_sun\n",
    "   \n",
    "\n",
    "    d = np.around((np.sqrt(x**2 + y**2 + z**2)), 3)\n",
    "    v = np.around((np.sqrt(vx**2 + vy**2 + vz**2)), 3)\n",
    "\n",
    "    d_3D = d.to(u.lyr)\n",
    "\n",
    "    return (d, v, m, d_3D)\n",
    "\n",
    "    \n",
    "\n",
    "    "
   ]
  },
  {
   "cell_type": "code",
   "execution_count": 275,
   "id": "dab620ad-85e2-4adf-8f9a-a71ef497866e",
   "metadata": {},
   "outputs": [
    {
     "data": {
      "text/latex": [
       "$4.245 \\; \\mathrm{kpc}$"
      ],
      "text/plain": [
       "<Quantity 4.245 kpc>"
      ]
     },
     "execution_count": 275,
     "metadata": {},
     "output_type": "execute_result"
    }
   ],
   "source": [
    "d,v, m, d_3D = ParticleInfo(\"MW_000.txt\", 2, 99)\n",
    "d # The 3D Distance in kpc"
   ]
  },
  {
   "cell_type": "code",
   "execution_count": 277,
   "id": "46932b0e-5908-42a8-a1ca-53a77283a7e0",
   "metadata": {},
   "outputs": [
    {
     "data": {
      "text/latex": [
       "$312.135 \\; \\mathrm{\\frac{km}{s}}$"
      ],
      "text/plain": [
       "<Quantity 312.135 km / s>"
      ]
     },
     "execution_count": 277,
     "metadata": {},
     "output_type": "execute_result"
    }
   ],
   "source": [
    "v # The 3D Velocity in km/s"
   ]
  },
  {
   "cell_type": "code",
   "execution_count": 281,
   "id": "6c5ffb7c-3eb4-4e74-a924-6118937c2060",
   "metadata": {},
   "outputs": [
    {
     "data": {
      "text/latex": [
       "$1000000 \\; \\mathrm{M_{\\odot}}$"
      ],
      "text/plain": [
       "<Quantity 1000000. solMass>"
      ]
     },
     "execution_count": 281,
     "metadata": {},
     "output_type": "execute_result"
    }
   ],
   "source": [
    "m # The mass of the 100th disk particle in the milky way"
   ]
  },
  {
   "cell_type": "code",
   "execution_count": 257,
   "id": "1168d796-1e6f-4187-b039-c7d36f504ad8",
   "metadata": {},
   "outputs": [
    {
     "data": {
      "text/latex": [
       "$13845.338 \\; \\mathrm{lyr}$"
      ],
      "text/plain": [
       "<Quantity 13845.33823408 lyr>"
      ]
     },
     "execution_count": 257,
     "metadata": {},
     "output_type": "execute_result"
    }
   ],
   "source": [
    "d_3D # The 3D Distance in light years"
   ]
  },
  {
   "cell_type": "code",
   "execution_count": 259,
   "id": "8d15a0c5-a01c-4fa4-a48c-8b911513809a",
   "metadata": {},
   "outputs": [
    {
     "name": "stdout",
     "output_type": "stream",
     "text": [
      "The properties of the 100th particle of the 2 type\n",
      "Distance: 4.245 kpc\n",
      "Velocity: 312.135 km / s\n",
      "Mass: 1000000.0 solMass\n",
      "3D Distance: 13845.338234075754 lyr\n"
     ]
    }
   ],
   "source": [
    "\n",
    "particle_type = 2\n",
    "particle_num = 100\n",
    "d, v, m, d_3D = ParticleInfo(\"MW_000.txt\", particle_type, particle_num - 1)  # Disk stars are type 2\n",
    "print(f\"The properties of the {particle_num}th particle of the {particle_type} type\")\n",
    "print(f\"Distance: {d}\")\n",
    "print(f\"Velocity: {v}\")\n",
    "print(f\"Mass: {m}\")\n",
    "print(f\"3D Distance: {d_3D}\")"
   ]
  }
 ],
 "metadata": {
  "kernelspec": {
   "display_name": "Python 3 (ipykernel)",
   "language": "python",
   "name": "python3"
  },
  "language_info": {
   "codemirror_mode": {
    "name": "ipython",
    "version": 3
   },
   "file_extension": ".py",
   "mimetype": "text/x-python",
   "name": "python",
   "nbconvert_exporter": "python",
   "pygments_lexer": "ipython3",
   "version": "3.11.7"
  }
 },
 "nbformat": 4,
 "nbformat_minor": 5
}
