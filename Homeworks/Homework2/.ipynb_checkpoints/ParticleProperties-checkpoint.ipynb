{
 "cells": [
  {
   "cell_type": "code",
   "execution_count": 16,
   "id": "936eb807-d7be-4353-9936-15e80c256692",
   "metadata": {},
   "outputs": [],
   "source": [
    "# importing necessary libraries\n",
    "import numpy as np\n",
    "import astropy.units as u\n",
    "from ReadFile import Read"
   ]
  },
  {
   "cell_type": "code",
   "execution_count": 18,
   "id": "3eed4e03-86ed-4d1a-82da-e9c35d9e6e7a",
   "metadata": {},
   "outputs": [],
   "source": [
    "\n",
    "def ParticleInfo(filename, particle_type, particle_number):\n",
    "    \"\"\"\n",
    "    This function will compute the magnitude of the distance, magnitude of the velocity and mass of any given particle of \n",
    "    any given type (Disk, Halo, etc.)\n",
    "\n",
    "    Inputs: filename (string) Name of the file in which the data is stored in the correct format.\n",
    "            particle_type is the type of the particle, mapped to a number as follows, Type 1 = Dark Matter, \n",
    "            Type 2 = Disk Stars, Type 3 = Bulge Stars\n",
    "            particle_number is the number of the particle\n",
    "\n",
    "    Output : d (astropy units kpc)  Magnitude of the distance\n",
    "             v (astropy units km/s) Magnitude of the velocity\n",
    "             m (astropy units M_sun) Mass\n",
    "    \"\"\"\n",
    "    \n",
    "    time, total_particles, data = Read(filename)\n",
    "    \n",
    "    index = np.where(data['type'] == particle_type)\n",
    "    data1 = data[index]\n",
    "\n",
    "\n",
    "    # distance\n",
    "    x = float(data1[particle_number]['x']) * u.kpc\n",
    "    y = float(data1[particle_number]['y']) * u.kpc\n",
    "    z = float(data1[particle_number]['z']) * u.kpc\n",
    "\n",
    "    # velocity\n",
    "    vx = float(data1[particle_number]['vx']) * u.km/u.s\n",
    "    vy = float(data1[particle_number]['vy']) * u.km/u.s\n",
    "    vz = float(data1[particle_number]['vz']) * u.km/u.s\n",
    "\n",
    "    m = data['m'][index][particle_number] * 10**10* u.M_sun\n",
    "\n",
    "    d = np.around((np.sqrt(x**2 + y**2 + z**2)), 3)\n",
    "    v = np.around((np.sqrt(vx**2 + vy**2 + vz**2)), 3)\n",
    "\n",
    "    d_3D = d.to(u.lyr)\n",
    "\n",
    "    return (d, v, m, d_3D)\n",
    "\n",
    "    \n",
    "\n",
    "    "
   ]
  },
  {
   "cell_type": "code",
   "execution_count": 20,
   "id": "dab620ad-85e2-4adf-8f9a-a71ef497866e",
   "metadata": {},
   "outputs": [
    {
     "data": {
      "text/latex": [
       "$4.245 \\; \\mathrm{kpc}$"
      ],
      "text/plain": [
       "<Quantity 4.245 kpc>"
      ]
     },
     "execution_count": 20,
     "metadata": {},
     "output_type": "execute_result"
    }
   ],
   "source": [
    "d,v, m, d_3D = ParticleInfo(\"MW_000.txt\", 2, 99)\n",
    "d # The 3D Distance in kpc"
   ]
  },
  {
   "cell_type": "code",
   "execution_count": 277,
   "id": "46932b0e-5908-42a8-a1ca-53a77283a7e0",
   "metadata": {},
   "outputs": [
    {
     "data": {
      "text/latex": [
       "$312.135 \\; \\mathrm{\\frac{km}{s}}$"
      ],
      "text/plain": [
       "<Quantity 312.135 km / s>"
      ]
     },
     "execution_count": 277,
     "metadata": {},
     "output_type": "execute_result"
    }
   ],
   "source": [
    "v # The 3D Velocity in km/s"
   ]
  },
  {
   "cell_type": "code",
   "execution_count": 281,
   "id": "6c5ffb7c-3eb4-4e74-a924-6118937c2060",
   "metadata": {},
   "outputs": [
    {
     "data": {
      "text/latex": [
       "$1000000 \\; \\mathrm{M_{\\odot}}$"
      ],
      "text/plain": [
       "<Quantity 1000000. solMass>"
      ]
     },
     "execution_count": 281,
     "metadata": {},
     "output_type": "execute_result"
    }
   ],
   "source": [
    "m # The mass of the 100th disk particle in the milky way"
   ]
  },
  {
   "cell_type": "code",
   "execution_count": 257,
   "id": "1168d796-1e6f-4187-b039-c7d36f504ad8",
   "metadata": {},
   "outputs": [
    {
     "data": {
      "text/latex": [
       "$13845.338 \\; \\mathrm{lyr}$"
      ],
      "text/plain": [
       "<Quantity 13845.33823408 lyr>"
      ]
     },
     "execution_count": 257,
     "metadata": {},
     "output_type": "execute_result"
    }
   ],
   "source": [
    "d_3D # The 3D Distance in light years"
   ]
  },
  {
   "cell_type": "code",
   "execution_count": 288,
   "id": "e23ad80c-5ced-4bcf-b257-0f7980a7bea1",
   "metadata": {},
   "outputs": [
    {
     "data": {
      "text/latex": [
       "$0.0001 \\; \\mathrm{}$"
      ],
      "text/plain": [
       "<Quantity 0.0001>"
      ]
     },
     "execution_count": 288,
     "metadata": {},
     "output_type": "execute_result"
    }
   ],
   "source": [
    "# The mass in simulation units (10^10 * M_sun)\n",
    "(m/10**10)/u.M_sun"
   ]
  },
  {
   "cell_type": "code",
   "execution_count": 290,
   "id": "8d15a0c5-a01c-4fa4-a48c-8b911513809a",
   "metadata": {},
   "outputs": [
    {
     "name": "stdout",
     "output_type": "stream",
     "text": [
      "The properties of the 100th particle of the 2 type\n",
      "Distance: 4.245 kpc\n",
      "Velocity: 312.135 km / s\n",
      "Mass: 1000000.0 solMass\n",
      "3D Distance: 13845.338234075754 lyr\n"
     ]
    }
   ],
   "source": [
    "\n",
    "particle_type = 2\n",
    "particle_num = 100\n",
    "d, v, m, d_3D = ParticleInfo(\"MW_000.txt\", particle_type, particle_num - 1)  # Disk stars are type 2\n",
    "print(f\"The properties of the {particle_num}th particle of the {particle_type} type\")\n",
    "print(f\"Distance: {d}\")\n",
    "print(f\"Velocity: {v}\")\n",
    "print(f\"Mass: {m}\")\n",
    "print(f\"3D Distance: {d_3D}\")"
   ]
  }
 ],
 "metadata": {
  "kernelspec": {
   "display_name": "Python 3 (ipykernel)",
   "language": "python",
   "name": "python3"
  },
  "language_info": {
   "codemirror_mode": {
    "name": "ipython",
    "version": 3
   },
   "file_extension": ".py",
   "mimetype": "text/x-python",
   "name": "python",
   "nbconvert_exporter": "python",
   "pygments_lexer": "ipython3",
   "version": "3.11.7"
  }
 },
 "nbformat": 4,
 "nbformat_minor": 5
}
